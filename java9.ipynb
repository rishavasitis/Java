{
 "cells": [
  {
   "cell_type": "markdown",
   "id": "fd51046d-4785-49d0-9acd-c42cc91c26e6",
   "metadata": {},
   "source": [
    "****Q1.What is Spring Framework?****\n",
    "\n",
    "****Q2.What are the features of Spring Framework?****\n",
    "\n",
    "****Q3.What is a Spring configuration file?****\n",
    "\n",
    "****Q4.What do you mean by IoC Container?****\n",
    "\n",
    "****Q5.What do you understand by Dependency Injection?****\n"
   ]
  },
  {
   "cell_type": "code",
   "execution_count": null,
   "id": "dd873a5f-c1c7-4b8f-854e-65904067219a",
   "metadata": {},
   "outputs": [],
   "source": []
  },
  {
   "cell_type": "markdown",
   "id": "b2094637-fd14-449a-8740-c2c8f562b145",
   "metadata": {},
   "source": [
    "Q1. The Spring Framework is a popular open-source application framework for Java. It provides a comprehensive programming and configuration model for developing enterprise-level Java applications. Spring aims to simplify the development of Java applications by providing various modules and features that handle common tasks and promote good software engineering practices.\n",
    "\n",
    "Q2. The Spring Framework offers several key features, including:\n",
    "\n",
    "- Inversion of Control (IoC): Spring's IoC container manages the creation and wiring of application components, allowing developers to focus on writing business logic instead of handling object creation and dependencies directly.\n",
    "\n",
    "- Dependency Injection (DI): Spring supports DI, which is a technique where an object's dependencies are provided to it from an external source rather than the object creating them itself. This promotes loose coupling and makes the code more modular and testable.\n",
    "\n",
    "- Aspect-Oriented Programming (AOP): AOP in Spring allows separating cross-cutting concerns, such as logging, security, and transaction management, from the business logic, resulting in cleaner and more maintainable code.\n",
    "\n",
    "- MVC Web Framework: Spring provides a powerful Model-View-Controller (MVC) framework for building web applications. It simplifies the development of web applications by providing abstractions for handling HTTP requests, managing session state, and rendering views.\n",
    "\n",
    "- JDBC and ORM Integration: Spring offers integration with popular data access technologies such as JDBC (Java Database Connectivity) and Object-Relational Mapping (ORM) frameworks like Hibernate, making it easier to work with databases.\n",
    "\n",
    "- Testing Support: Spring provides testing support that allows developers to write unit tests and integration tests for their applications using a range of testing frameworks.\n",
    "\n",
    "Q3. In the context of the Spring Framework, a Spring configuration file is an XML or Java-based file that specifies the configuration details for a Spring application. It contains information about beans (objects) that need to be created, their dependencies, and various settings required for the application's components to function correctly. The configuration file acts as a blueprint for the Spring container to create and wire the objects.\n",
    "\n",
    "Q4. Inversion of Control (IoC) Container is a fundamental concept in the Spring Framework. It is responsible for managing the lifecycle and dependencies of objects (beans) in a Spring application. Instead of objects creating and managing their dependencies, the IoC container takes control of object creation, wiring, and dependency injection. It allows developers to focus on writing the core business logic of their application while delegating object management to the container. The container creates objects based on the configuration and injects the required dependencies, thus inverting the traditional control of object creation and management.\n",
    "\n",
    "Q5. Dependency Injection (DI) is a design pattern and a key feature of the Spring Framework. In simple terms, DI means providing the necessary dependencies to an object from an external source, rather than the object creating or obtaining them itself. It allows objects to be loosely coupled and promotes modular and reusable code.\n",
    "\n",
    "To explain it with a layman analogy, imagine you're building a house. Instead of you going to the store to buy all the necessary materials and assembling them yourself, someone delivers the materials to your construction site. Dependency Injection is like the delivery service. The delivery person (external source) brings the required materials (dependencies) to your construction site (object), so you can focus on building the house (implementing business logic) without worrying about how to obtain the materials (dependencies). DI simplifies the object's construction process and allows for flexibility in changing or substituting dependencies in the future."
   ]
  },
  {
   "cell_type": "code",
   "execution_count": null,
   "id": "cb51059f-fb95-4d50-b19b-21ba4fa71049",
   "metadata": {},
   "outputs": [],
   "source": []
  },
  {
   "cell_type": "markdown",
   "id": "5dc079a2-c4e7-40b8-84bf-83010edcb5fb",
   "metadata": {},
   "source": [
    "\n",
    "****Q6.Explain the difference between constructor and setter injection?****\n",
    "\n",
    "****Q7.What are Spring Beans?****\n",
    "\n",
    "****Q8.What are the bean scopes available in Spring?****\n",
    "\n",
    "****Q9.What is Autowiring and name the different modes of it?****\n",
    "\n",
    "**Q10.Explain Bean life cycle in Spring Bean Factory Container.**\n",
    "\n"
   ]
  },
  {
   "cell_type": "code",
   "execution_count": null,
   "id": "f781780b-d04f-4a4d-a0d3-4a7ded1902b6",
   "metadata": {},
   "outputs": [],
   "source": []
  }
 ],
 "metadata": {
  "kernelspec": {
   "display_name": "Python 3 (ipykernel)",
   "language": "python",
   "name": "python3"
  },
  "language_info": {
   "codemirror_mode": {
    "name": "ipython",
    "version": 3
   },
   "file_extension": ".py",
   "mimetype": "text/x-python",
   "name": "python",
   "nbconvert_exporter": "python",
   "pygments_lexer": "ipython3",
   "version": "3.10.8"
  }
 },
 "nbformat": 4,
 "nbformat_minor": 5
}
