{
 "cells": [
  {
   "cell_type": "markdown",
   "id": "b84225d6-6d48-4ba9-b254-cd13d3e0ce4e",
   "metadata": {},
   "source": [
    "**Q1. What are the Conditional Operators in Java?**\n",
    "\n",
    "**Q2. What are the types of operators based on the number of operands?**\n",
    "\n",
    "**Q3.What is the use of Switch case in Java programming?**\n",
    "\n",
    "**Q4.What are the conditional Statements and use of conditional statements in Java?**\n",
    "\n",
    "**Q5.What is the syntax of if else statement?**\n",
    " "
   ]
  },
  {
   "cell_type": "code",
   "execution_count": null,
   "id": "195271ab-3593-4b21-afe6-a988223ac863",
   "metadata": {},
   "outputs": [],
   "source": []
  },
  {
   "cell_type": "markdown",
   "id": "01362529-1216-4eb5-913b-a30d46729c64",
   "metadata": {},
   "source": [
    "1 . Conditional operators in Java are used to perform logical operations and make decisions based on conditions. The main conditional operators in Java are:\n",
    "\n",
    "- **Comparison Operators:** These operators compare two values and return a boolean result. They include `==` (equal to), `!=` (not equal to), `>` (greater than), `<` (less than), `>=` (greater than or equal to), and `<=` (less than or equal to).\n",
    "\n",
    "- **Logical Operators:** These operators combine multiple conditions and return a boolean result. They include `&&` (logical AND), `||` (logical OR), and `!` (logical NOT).\n",
    "\n",
    "- **Conditional Operator (Ternary Operator):** This operator provides a compact way to write conditional expressions. It takes three operands and returns a value based on a condition. The syntax is `condition ? expression1 : expression2`. If the condition is true, it evaluates `expression1`; otherwise, it evaluates `expression2`.\n",
    "\n",
    "2 . Operators in Java can be classified based on the number of operands they work with:\n",
    "\n",
    "- **Unary Operators:** These operators work with a single operand. Examples include the increment (`++`) and decrement (`--`) operators, logical NOT (`!`), and negation (`-`).\n",
    "\n",
    "- **Binary Operators:** These operators work with two operands. Examples include arithmetic operators (`+`, `-`, `*`, `/`), assignment operators (`=`, `+=`, `-=`, etc.), and comparison operators (`==`, `!=`, `<`, `>`, etc.).\n",
    "\n",
    "- **Ternary Operator:** The ternary operator (`condition ? expression1 : expression2`) is the only operator in Java that works with three operands.\n",
    "\n",
    "3 . The switch case statement in Java is used when we have multiple possible options and want to execute different code blocks based on the value of a particular variable or expression. It provides a structured way to handle multiple conditions. The main use of the switch case statement is to simplify and improve the readability of code that involves multiple if-else conditions.\n",
    "\n",
    "4 . Conditional statements in Java are used to execute different blocks of code based on certain conditions. They allow the program to make decisions and choose different paths of execution. The main conditional statements in Java are:\n",
    "\n",
    "- **if statement:** It evaluates a condition and executes a block of code if the condition is true. If the condition is false, the code inside the if statement is skipped.\n",
    "\n",
    "- **if-else statement:** It evaluates a condition and executes one block of code if the condition is true, and a different block of code if the condition is false. Only one of the blocks will be executed.\n",
    "\n",
    "- **if-else if-else statement:** It allows evaluating multiple conditions one after the other. The conditions are checked sequentially, and the code block associated with the first true condition is executed. If none of the conditions are true, the code inside the else block is executed.\n",
    "\n",
    "These conditional statements help control the flow of execution in a Java program based on specific conditions or criteria.\n",
    "\n",
    "5 . The syntax of the if-else statement in Java is as follows:\n",
    "\n",
    "```java\n",
    "if (condition) {\n",
    "    // code to be executed if the condition is true\n",
    "} else {\n",
    "    // code to be executed if the condition is false\n",
    "}\n",
    "```\n",
    "\n",
    "The `condition` is a boolean expression or a value that evaluates to true or false. If the condition is true, the code inside the if block is executed. If the condition is false, the code inside the else block is executed. The else block is optional, and it provides an alternative code path when the condition is false."
   ]
  },
  {
   "cell_type": "markdown",
   "id": "e6e42a59-801f-4f4f-9081-21c720141896",
   "metadata": {},
   "source": [
    "\n",
    "**Q6.How do you compare two strings in Java?**\n",
    "\n",
    "**Q7.What is Mutable String in Java Explain with an example**\n",
    "\n",
    "**Q8.Write a program to sort a String Alphabetically**\n",
    "\n",
    "**Q9.Write a program to check if the letter 'e' is present in the word \n",
    "'Umbrella' .\n",
    "    \n",
    " **Q10.Where exactly is the string constant pool located in the memory?**\n",
    " "
   ]
  },
  {
   "cell_type": "code",
   "execution_count": null,
   "id": "caad7d5a-ad6e-44f2-b0e8-a31592ec3d53",
   "metadata": {},
   "outputs": [],
   "source": []
  }
 ],
 "metadata": {
  "kernelspec": {
   "display_name": "Python 3 (ipykernel)",
   "language": "python",
   "name": "python3"
  },
  "language_info": {
   "codemirror_mode": {
    "name": "ipython",
    "version": 3
   },
   "file_extension": ".py",
   "mimetype": "text/x-python",
   "name": "python",
   "nbconvert_exporter": "python",
   "pygments_lexer": "ipython3",
   "version": "3.10.8"
  }
 },
 "nbformat": 4,
 "nbformat_minor": 5
}
