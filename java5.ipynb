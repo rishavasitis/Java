{
 "cells": [
  {
   "cell_type": "markdown",
   "id": "66bfa789-289c-41ea-ab35-18956975cb73",
   "metadata": {},
   "source": [
    "**Q1.What is Exception in Java?**\n",
    "\n",
    "**Q2.What is Exception Handling?**\n",
    "\n",
    "**Q3.What is the difference between Checked and Unchecked Exceptions and Error?**\n",
    "\n",
    "**Q4.What are the difference between throw and throws in Java?**\n",
    "\n",
    "**Q5.What is multithreading in Java? mention its advantages**\n",
    " \n",
    " "
   ]
  },
  {
   "cell_type": "code",
   "execution_count": null,
   "id": "663eef55-40cc-44e2-971c-c1f9024a22b1",
   "metadata": {},
   "outputs": [],
   "source": []
  },
  {
   "cell_type": "markdown",
   "id": "7a0ecd70-ad38-4dda-b664-fdbd8c0109c2",
   "metadata": {},
   "source": [
    "1. In Java, an exception is an event or condition that disrupts the normal flow of program execution. It occurs when something unexpected or exceptional happens during the runtime of a program, such as an error, invalid input, or resource unavailability. Exceptions are objects that encapsulate information about the exceptional event and allow the program to handle and recover from such situations.\n",
    "\n",
    "2. Exception handling is a mechanism in Java that allows programmers to gracefully handle exceptions and recover from exceptional situations. It involves detecting and responding to exceptions to prevent program termination or undesired behavior. With exception handling, you can catch and handle exceptions, perform necessary cleanup tasks, and provide error messages or alternative actions to handle exceptional scenarios.\n",
    "\n",
    "3. Checked and unchecked exceptions, along with errors, are types of exceptions in Java. The main differences are as follows:\n",
    "- Checked Exceptions: Checked exceptions are exceptions that must be declared in the method signature or handled using a try-catch block. They are checked at compile-time, and the compiler ensures that the exception is either caught and handled or declared to be thrown. Examples of checked exceptions include `IOException` and `SQLException`.\n",
    "\n",
    "- Unchecked Exceptions: Unchecked exceptions, also known as runtime exceptions, do not need to be declared or caught explicitly. They occur due to programming errors or unexpected conditions during runtime. Unchecked exceptions are not checked at compile-time, and the compiler does not enforce their handling. Examples of unchecked exceptions include `NullPointerException` and `ArrayIndexOutOfBoundsException`.\n",
    "\n",
    "- Errors: Errors are exceptional conditions that usually cannot be recovered or handled by the program. They are typically caused by system-level issues or catastrophic failures. Unlike exceptions, errors are not meant to be caught or handled by application-level code. Examples of errors include `OutOfMemoryError` and `StackOverflowError`.\n",
    "\n",
    "4. In Java, `throw` and `throws` are keywords related to exception handling:\n",
    "- `throw` is used to manually throw an exception within a method. It is used to explicitly indicate that a particular exceptional condition has occurred. When an exception is thrown, it is transferred to the calling method or caught by an appropriate exception handler.\n",
    "\n",
    "- `throws` is used in a method declaration to specify that the method may throw one or more types of exceptions. It is used to delegate the responsibility of handling exceptions to the calling method or to indicate that the exceptions are not handled within the method itself. The `throws` keyword allows the caller to be aware of potential exceptions and handle them accordingly.\n",
    "\n",
    "5. Multithreading in Java refers to the concurrent execution of multiple threads within a single program. A thread can be understood as an independent unit of execution that runs concurrently with other threads, allowing tasks to be executed simultaneously. Multithreading provides several advantages:\n",
    "- Increased Responsiveness: Multithreading allows for the execution of multiple tasks concurrently. This leads to increased responsiveness, as the program can perform multiple operations simultaneously, such as handling user input, processing background tasks, and performing I/O operations.\n",
    "\n",
    "- Improved Performance: By utilizing multiple threads, a program can leverage the processing power of multi-core processors. Multithreading allows for parallel execution of tasks, which can result in improved performance and faster completion of computationally intensive operations.\n",
    "\n",
    "- Resource Utilization: Multithreading allows efficient utilization of system resources. It enables better utilization of CPU time, memory, and I/O resources by efficiently scheduling and sharing them among multiple threads. This leads to optimal resource usage and overall system efficiency.\n",
    "\n",
    "- Enhanced Modularity: Multithreading promotes modular design by enabling different tasks or functionalities to be implemented as separate threads. This modular approach allows for easier code organization, maintenance, and extensibility.\n",
    "\n",
    "- Asynchronous Programming: Multithreading enables asynchronous programming, where tasks can run concurrently and independently. This is useful for handling time-consuming operations, such as network requests or file I/O, without blocking the main thread and affecting the responsiveness of the program."
   ]
  },
  {
   "cell_type": "code",
   "execution_count": null,
   "id": "0c8320df-430a-485f-8832-a1ba848a6610",
   "metadata": {},
   "outputs": [],
   "source": []
  },
  {
   "cell_type": "markdown",
   "id": "37462286-b5f0-4824-bf72-66182bbce118",
   "metadata": {},
   "source": [
    "**Q6.Write a program to create and call a custom exception**\n",
    "\n",
    "**Q7.How can you handle exceptions in Java?**\n",
    "\n",
    "**Q8.What is Thread in Java?**\n",
    "\n",
    "**Q9. What are the two ways of implementing thread in Java?**\n",
    "\n",
    "**Q10.What do you mean by garbage collection?**\n",
    " \n",
    " "
   ]
  },
  {
   "cell_type": "code",
   "execution_count": null,
   "id": "0b87b753-b521-4905-aa39-69fa6db7f52a",
   "metadata": {},
   "outputs": [],
   "source": []
  },
  {
   "cell_type": "markdown",
   "id": "e8953298-fb6b-4482-93a2-851bac541aae",
   "metadata": {},
   "source": [
    "Q6. Here's an example program that creates and calls a custom exception in Java:\n",
    "\n",
    "```java\n",
    "class CustomException extends Exception {\n",
    "    public CustomException(String message) {\n",
    "        super(message);\n",
    "    }\n",
    "}\n",
    "\n",
    "public class CustomExceptionExample {\n",
    "    public static void main(String[] args) {\n",
    "        try {\n",
    "            throw new CustomException(\"This is a custom exception\");\n",
    "        } catch (CustomException e) {\n",
    "            System.out.println(e.getMessage());\n",
    "        }\n",
    "    }\n",
    "}\n",
    "```\n",
    "\n",
    "In this example, we define a custom exception `CustomException` by extending the `Exception` class. The `CustomException` class has a constructor that accepts a message parameter and passes it to the superclass constructor using the `super()` keyword. In the `main()` method, we intentionally throw the custom exception using the `throw` keyword within a try-catch block. The catch block catches the `CustomException` and prints its message.\n",
    "\n",
    "Q7. In Java, exceptions can be handled using the try-catch block. The basic structure for exception handling is as follows:\n",
    "\n",
    "```java\n",
    "try {\n",
    "    // Code that may throw an exception\n",
    "} catch (ExceptionType1 e1) {\n",
    "    // Handle exception of type ExceptionType1\n",
    "} catch (ExceptionType2 e2) {\n",
    "    // Handle exception of type ExceptionType2\n",
    "} finally {\n",
    "    // Code that always executes, regardless of whether an exception occurs or not\n",
    "}\n",
    "```\n",
    "\n",
    "The `try` block contains the code that may throw an exception. If an exception occurs within the try block, it is caught by one of the `catch` blocks that match the type of the thrown exception. Each `catch` block handles a specific type of exception and provides the necessary code to handle or recover from the exception.\n",
    "\n",
    "The `finally` block is optional and is used to specify code that always executes, regardless of whether an exception occurs or not. It is commonly used for cleanup tasks or releasing resources.\n",
    "\n",
    "Q8. In Java, a thread is a separate unit of execution within a program. It represents an independent path of execution that can run concurrently with other threads. Threads allow multiple tasks or parts of a program to be executed simultaneously, providing concurrency and parallelism.\n",
    "\n",
    "Q9. There are two ways to implement threads in Java:\n",
    "- By extending the `Thread` class: In this approach, a class extends the `Thread` class and overrides the `run()` method to define the code that will be executed by the thread. The class can then be instantiated and the thread is started using the `start()` method.\n",
    "\n",
    "- By implementing the `Runnable` interface: In this approach, a class implements the `Runnable` interface and provides an implementation for the `run()` method. The class is then passed as a parameter to the `Thread` constructor, and the thread is started by invoking the `start()` method on the `Thread` object.\n",
    "\n",
    "Q10. Garbage collection in Java is the process of automatically reclaiming memory occupied by objects that are no longer in use. When an object is created, memory is allocated to store its data and reference it. However, when an object becomes unreachable, meaning it is no longer referenced by any part of the program, it is considered eligible for garbage collection.\n",
    "\n",
    "The garbage collector in Java automatically identifies and frees up the memory occupied by these unreachable objects. It works in the background, periodically identifying unused objects and reclaiming their memory. This automatic memory management relieves the programmer from the responsibility of explicitly deallocating memory and helps prevent memory leaks.\n",
    "\n",
    "Garbage collection ensures efficient memory usage and prevents the occurrence of memory-related errors such as memory leaks and segmentation faults. It allows developers to focus on writing code without worrying about manually managing memory allocation and deallocation."
   ]
  },
  {
   "cell_type": "markdown",
   "id": "b58d3681-b124-4ab4-b756-5ca555ccac21",
   "metadata": {},
   "source": []
  }
 ],
 "metadata": {
  "kernelspec": {
   "display_name": "Python 3 (ipykernel)",
   "language": "python",
   "name": "python3"
  },
  "language_info": {
   "codemirror_mode": {
    "name": "ipython",
    "version": 3
   },
   "file_extension": ".py",
   "mimetype": "text/x-python",
   "name": "python",
   "nbconvert_exporter": "python",
   "pygments_lexer": "ipython3",
   "version": "3.10.8"
  }
 },
 "nbformat": 4,
 "nbformat_minor": 5
}
